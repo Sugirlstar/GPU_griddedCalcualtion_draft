{
  "nbformat": 4,
  "nbformat_minor": 0,
  "metadata": {
    "colab": {
      "provenance": [],
      "gpuType": "T4",
      "machine_shape": "hm",
      "authorship_tag": "ABX9TyMI90aZQo1OiXsMP14rsLpn",
      "include_colab_link": true
    },
    "kernelspec": {
      "name": "python3",
      "display_name": "Python 3"
    },
    "language_info": {
      "name": "python"
    },
    "accelerator": "GPU"
  },
  "cells": [
    {
      "cell_type": "markdown",
      "metadata": {
        "id": "view-in-github",
        "colab_type": "text"
      },
      "source": [
        "<a href=\"https://colab.research.google.com/github/Sugirlstar/GPU_griddedCalcualtion_draft/blob/main/SPI_test.ipynb\" target=\"_parent\"><img src=\"https://colab.research.google.com/assets/colab-badge.svg\" alt=\"Open In Colab\"/></a>"
      ]
    },
    {
      "cell_type": "markdown",
      "source": [
        "挂载Google Driver：\n",
        "\n",
        "1、为什么要挂载Google Driver：如果没有挂载Google Driver（Google 云端硬盘），则下载的文件只会暂时存在（即下次打开时，下载在Jupyter NoteBook的文件就不见了），初始阶段，左侧只有sample_data一个文件夹，当使用代码挂载Google Driver后，左侧出现driver文件夹，只要我们的文件放在driver后，文件就不会消失了（下次打开的时候需要再次使用代码挂载Google Driver）\n",
        "\n",
        "在将 nc 文件上传到 Google Drive 之后，你可以使用以下步骤在 Google Colab 中挂载你的 Google Drive，然后读取和处理这些 nc 文件。\n",
        "\n",
        "该代码将打开一个新窗口，要求你登录 Google 账户并授权 Colab 访问你的 Google Drive。操作完成后，你将获得一个授权代码。将此代码复制并粘贴回 notebook，然后按 Enter。"
      ],
      "metadata": {
        "id": "8bSy1_1894HR"
      }
    },
    {
      "cell_type": "code",
      "execution_count": 1,
      "metadata": {
        "colab": {
          "base_uri": "https://localhost:8080/"
        },
        "id": "m1eIrtv88MLt",
        "outputId": "d0863c85-857f-409c-c3cd-ca2fa09c8bd6"
      },
      "outputs": [
        {
          "output_type": "stream",
          "name": "stdout",
          "text": [
            "Drive already mounted at /content/drive; to attempt to forcibly remount, call drive.mount(\"/content/drive\", force_remount=True).\n"
          ]
        }
      ],
      "source": [
        "from google.colab import drive\n",
        "drive.mount('/content/drive')"
      ]
    },
    {
      "cell_type": "markdown",
      "source": [
        "本质是一个linux虚拟机：在左侧文件列表中返回上一级菜单，可以看到linux文件结构"
      ],
      "metadata": {
        "id": "Pu3G37MEnSgP"
      }
    },
    {
      "cell_type": "code",
      "source": [
        "!pip install netCDF4"
      ],
      "metadata": {
        "colab": {
          "base_uri": "https://localhost:8080/"
        },
        "id": "CMJzdKdpftAi",
        "outputId": "9bf5ac24-58d6-4de1-939f-14a75d11378c"
      },
      "execution_count": 2,
      "outputs": [
        {
          "output_type": "stream",
          "name": "stdout",
          "text": [
            "Requirement already satisfied: netCDF4 in /usr/local/lib/python3.10/dist-packages (1.6.4)\n",
            "Requirement already satisfied: cftime in /usr/local/lib/python3.10/dist-packages (from netCDF4) (1.6.2)\n",
            "Requirement already satisfied: certifi in /usr/local/lib/python3.10/dist-packages (from netCDF4) (2023.7.22)\n",
            "Requirement already satisfied: numpy in /usr/local/lib/python3.10/dist-packages (from netCDF4) (1.23.5)\n"
          ]
        }
      ]
    },
    {
      "cell_type": "code",
      "source": [
        "!pip install xarray"
      ],
      "metadata": {
        "colab": {
          "base_uri": "https://localhost:8080/"
        },
        "id": "Fps7rxpQn6PX",
        "outputId": "c3059758-c0c6-4ce7-b4f1-3902875d794d"
      },
      "execution_count": 3,
      "outputs": [
        {
          "output_type": "stream",
          "name": "stdout",
          "text": [
            "Requirement already satisfied: xarray in /usr/local/lib/python3.10/dist-packages (2023.7.0)\n",
            "Requirement already satisfied: numpy>=1.21 in /usr/local/lib/python3.10/dist-packages (from xarray) (1.23.5)\n",
            "Requirement already satisfied: pandas>=1.4 in /usr/local/lib/python3.10/dist-packages (from xarray) (1.5.3)\n",
            "Requirement already satisfied: packaging>=21.3 in /usr/local/lib/python3.10/dist-packages (from xarray) (23.1)\n",
            "Requirement already satisfied: python-dateutil>=2.8.1 in /usr/local/lib/python3.10/dist-packages (from pandas>=1.4->xarray) (2.8.2)\n",
            "Requirement already satisfied: pytz>=2020.1 in /usr/local/lib/python3.10/dist-packages (from pandas>=1.4->xarray) (2023.3.post1)\n",
            "Requirement already satisfied: six>=1.5 in /usr/local/lib/python3.10/dist-packages (from python-dateutil>=2.8.1->pandas>=1.4->xarray) (1.16.0)\n"
          ]
        }
      ]
    },
    {
      "cell_type": "code",
      "source": [
        "import os\n",
        "os.environ['HDF5_USE_FILE_LOCKING'] = 'FALSE'"
      ],
      "metadata": {
        "id": "rS_zXYEVmaYb"
      },
      "execution_count": 4,
      "outputs": []
    },
    {
      "cell_type": "code",
      "source": [
        "# 安装cuda\n",
        "!curl https://colab.chainer.org/install | sh -\n"
      ],
      "metadata": {
        "colab": {
          "base_uri": "https://localhost:8080/"
        },
        "id": "LQhrTk1Lf3xT",
        "outputId": "0bf42418-6dd3-447a-e1cc-a1adeef2355e"
      },
      "execution_count": 5,
      "outputs": [
        {
          "output_type": "stream",
          "name": "stdout",
          "text": [
            "  % Total    % Received % Xferd  Average Speed   Time    Time     Time  Current\n",
            "                                 Dload  Upload   Total   Spent    Left  Speed\n",
            "100  1553  100  1553    0     0   6793      0 --:--:-- --:--:-- --:--:--  6811\n",
            "********************************************************************************\n",
            "CUDA version could not be detected!\n",
            "Try installing Chainer manually by: pip install chainer\n",
            "********************************************************************************\n"
          ]
        }
      ]
    },
    {
      "cell_type": "code",
      "source": [
        "import netCDF4 as nc\n",
        "import numpy as np\n",
        "import cupy as cp\n",
        "from scipy.stats import gamma\n",
        "import xarray as xr\n",
        "import time"
      ],
      "metadata": {
        "id": "LtdINeeifGeV"
      },
      "execution_count": 6,
      "outputs": []
    },
    {
      "cell_type": "code",
      "source": [
        "# 指定 Google Drive 中的 nc 文件路径\n",
        "file_paths = [f\"/content/drive/MyDrive/ColabNotebooks/daily_{year}.nc\" for year in range(1990, 2001)]\n",
        "# 创建一个空列表用于存储所有数据\n",
        "all_data = []\n",
        "\n",
        "# 遍历文件列表\n",
        "for file in file_paths:\n",
        "    # 打开netCDF文件\n",
        "    dataset = nc.Dataset(file)\n",
        "    # 获取tp变量的数据\n",
        "    tp_data = dataset.variables['tp'][:]\n",
        "    all_data.append(tp_data)"
      ],
      "metadata": {
        "id": "FOMxPnWTjFaW"
      },
      "execution_count": 7,
      "outputs": []
    },
    {
      "cell_type": "code",
      "source": [
        "precip_data = np.concatenate(all_data)\n",
        "precip_data = np.array(precip_data, dtype='float32')\n",
        "precip_data.shape\n"
      ],
      "metadata": {
        "colab": {
          "base_uri": "https://localhost:8080/"
        },
        "id": "yQ2A7msdtcrj",
        "outputId": "d777973a-3587-4cfc-df25-39caa8069c4c"
      },
      "execution_count": 8,
      "outputs": [
        {
          "output_type": "execute_result",
          "data": {
            "text/plain": [
              "(4018, 361, 641)"
            ]
          },
          "metadata": {},
          "execution_count": 8
        }
      ]
    },
    {
      "cell_type": "code",
      "source": [
        "##### 生成日期序列的函数\n",
        "from datetime import datetime, timedelta\n",
        "def generate_date_sequence(start_date_str, end_date_str, date_format=\"%Y%m%d\"):\n",
        "    # 将开始日期和结束日期转换为datetime对象\n",
        "    start_date = datetime.strptime(start_date_str, date_format)\n",
        "    end_date = datetime.strptime(end_date_str, date_format)\n",
        "\n",
        "    # 创建一个空列表用于存储日期序列\n",
        "    date_sequence = []\n",
        "\n",
        "    # 初始化当前日期为开始日期\n",
        "    current_date = start_date\n",
        "\n",
        "    # 遍历日期范围，将每个日期添加到序列中\n",
        "    while current_date <= end_date:\n",
        "        date_sequence.append(current_date.strftime(date_format))\n",
        "        # 递增当前日期\n",
        "        current_date +=timedelta(days=1)\n",
        "\n",
        "    return date_sequence\n",
        "\n",
        "\n",
        "##### 判断是否为闰年的函数\n",
        "def is_leap_year(year):\n",
        "    \"\"\"\n",
        "    判断给定年份是否为闰年。\n",
        "    \"\"\"\n",
        "    return (year % 4 == 0 and year % 100 != 0) or (year % 400 == 0)\n",
        "\n",
        "##### 根据日期序列生成daylist的函数\n",
        "def compute_dlist_from_sequence(date_sequence):\n",
        "    # 创建一个长度为365的列表，使用空列表初始化每个元素\n",
        "    dlist = [[] for _ in range(365)]\n",
        "\n",
        "    # 遍历日期序列\n",
        "    for idx, date_str in enumerate(date_sequence):\n",
        "        date_obj = datetime.strptime(date_str, \"%Y%m%d\")\n",
        "\n",
        "        # 获取一年中的第几天 (1-366)\n",
        "        day_of_year = date_obj.timetuple().tm_yday\n",
        "\n",
        "        # 对于2月29日，调整为2月28日\n",
        "        if date_obj.month == 2 and date_obj.day == 29:\n",
        "            dlist[58].append(idx)  # 58是非闰年中2月28日的位置\n",
        "        else:\n",
        "            # 调整为闰年\n",
        "            position = day_of_year - 1\n",
        "            if day_of_year > 59 and is_leap_year(date_obj.year):\n",
        "                position -= 1\n",
        "            dlist[position].append(idx)\n",
        "\n",
        "    return dlist\n",
        "\n",
        "\n",
        "# 生成日期序列\n",
        "date_sequence = generate_date_sequence(\"19900101\", \"20001231\")\n",
        "# 根据日期序列生成daylist\n",
        "daylist = compute_dlist_from_sequence(date_sequence)"
      ],
      "metadata": {
        "id": "9EpD7azmN7HY"
      },
      "execution_count": 9,
      "outputs": []
    },
    {
      "cell_type": "code",
      "source": [
        "# CPU computation\n",
        "def compute_90_day_cumulative_cpu(data):\n",
        "    \"\"\"\n",
        "    Compute the 90-day cumulative values for a 3D CuPy array.\n",
        "\n",
        "    Args:\n",
        "    - data (cp.ndarray): A 3D CuPy array with the shape (days, longitude, latitude).\n",
        "\n",
        "    Returns:\n",
        "    - cp.ndarray: A 3D CuPy array with the shape (days, longitude, latitude) containing the 90-day cumulative values.\n",
        "    \"\"\"\n",
        "\n",
        "    result = []\n",
        "    for i in range(89, data.shape[0]):\n",
        "        # Sum the values from day t-89 to day t\n",
        "        moving_sum = np.sum(data[i-89:i+1], axis=0)\n",
        "        result.append(moving_sum)\n",
        "\n",
        "    return np.stack(result)\n",
        "\n",
        "start_time_cpu = time.time()\n",
        "\n",
        "# Compute the 90-day cumulative values for the data\n",
        "cumulative_90_days_cpu = compute_90_day_cumulative_cpu(precip_data)\n",
        "\n",
        "end_time_cpu = time.time()\n",
        "\n",
        "cpu_time = end_time_cpu - start_time_cpu\n",
        "print(cpu_time)"
      ],
      "metadata": {
        "colab": {
          "base_uri": "https://localhost:8080/"
        },
        "id": "ufSUzAljvi1C",
        "outputId": "5f83ab04-ca4b-47a8-a8df-5770aa09ff3b"
      },
      "execution_count": 10,
      "outputs": [
        {
          "output_type": "stream",
          "name": "stdout",
          "text": [
            "47.72395443916321\n"
          ]
        }
      ]
    },
    {
      "cell_type": "code",
      "source": [
        "# GPU computation\n",
        "def compute_90_day_cumulative_cupy(data):\n",
        "    \"\"\"\n",
        "    Compute the 90-day cumulative values for a 3D CuPy array.\n",
        "\n",
        "    Args:\n",
        "    - data (cp.ndarray): A 3D CuPy array with the shape (days, longitude, latitude).\n",
        "\n",
        "    Returns:\n",
        "    - cp.ndarray: A 3D CuPy array with the shape (days, longitude, latitude) containing the 90-day cumulative values.\n",
        "    \"\"\"\n",
        "\n",
        "    result = []\n",
        "    for i in range(89, data.shape[0]):\n",
        "        # Sum the values from day t-89 to day t\n",
        "        moving_sum = cp.sum(data[i-89:i+1], axis=0)\n",
        "        result.append(moving_sum)\n",
        "\n",
        "    return cp.stack(result)\n",
        "\n",
        "\n",
        "# Transfer data from CPU to GPU\n",
        "start_time_gpu = time.time()\n",
        "precip_data_gpu = cp.asarray(precip_data)\n",
        "\n",
        "# Compute the 90-day cumulative values for the data\n",
        "cumulative_90_days_cupy = compute_90_day_cumulative_cupy(precip_data_gpu)\n",
        "\n",
        "# Convert the result back to a NumPy array\n",
        "cumulative_90_days_numpy = cp.asnumpy(cumulative_90_days_cupy)\n",
        "\n",
        "end_time_gpu = time.time()\n",
        "gpu_time = end_time_gpu - start_time_gpu\n",
        "print(gpu_time)"
      ],
      "metadata": {
        "colab": {
          "base_uri": "https://localhost:8080/"
        },
        "id": "uRQh-L8opnwR",
        "outputId": "9528e066-a3f2-4f43-f1bb-91232e6bf06c"
      },
      "execution_count": 11,
      "outputs": [
        {
          "output_type": "stream",
          "name": "stdout",
          "text": [
            "6.433187007904053\n"
          ]
        }
      ]
    }
  ]
}